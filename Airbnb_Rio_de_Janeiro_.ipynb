{
 "cells": [
  {
   "cell_type": "markdown",
   "metadata": {
    "id": "2mgX9MCghnPX"
   },
   "source": [
    "# Obtención y analisis de los datos"
   ]
  },
  {
   "cell_type": "code",
   "execution_count": null,
   "metadata": {
    "execution": {
     "iopub.execute_input": "2025-04-16T13:55:14.231216Z",
     "iopub.status.busy": "2025-04-16T13:55:14.230855Z",
     "iopub.status.idle": "2025-04-16T13:55:15.030249Z",
     "shell.execute_reply": "2025-04-16T13:55:15.029303Z"
    },
    "id": "1SgQpXP2abIr"
   },
   "outputs": [],
   "source": [
    "import pandas as pd"
   ]
  },
  {
   "cell_type": "code",
   "execution_count": null,
   "metadata": {
    "execution": {
     "iopub.execute_input": "2025-04-16T13:55:15.035783Z",
     "iopub.status.busy": "2025-04-16T13:55:15.035294Z",
     "iopub.status.idle": "2025-04-16T13:55:36.136157Z",
     "shell.execute_reply": "2025-04-16T13:55:36.134188Z"
    },
    "id": "7VYrnPqkarwy"
   },
   "outputs": [],
   "source": [
    "df = pd.read_csv('https://raw.githubusercontent.com/miranda-amanda/Airbnb_Rio_de_Janeiro/refs/heads/main/listings_Rio_de_Janeiro.csv')"
   ]
  },
  {
   "cell_type": "code",
   "execution_count": null,
   "metadata": {
    "colab": {
     "base_uri": "https://localhost:8080/",
     "height": 504
    },
    "id": "d0tJ3W6aavPZ",
    "outputId": "32cfaf0b-a959-445e-f7fe-c88b0b0b900b"
   },
   "outputs": [],
   "source": [
    "df.head()"
   ]
  },
  {
   "cell_type": "code",
   "execution_count": null,
   "metadata": {
    "id": "9_wTpEvoaxNB"
   },
   "outputs": [],
   "source": [
    "# Seleccionando la columna \"id\" como clave\n",
    "df.set_index('id', inplace=True)"
   ]
  },
  {
   "cell_type": "code",
   "execution_count": null,
   "metadata": {
    "colab": {
     "base_uri": "https://localhost:8080/"
    },
    "id": "jspJ0b-TjjZE",
    "outputId": "e2ea4a81-fe68-45de-eb70-c87dbe2580a8"
   },
   "outputs": [],
   "source": [
    "df.info()"
   ]
  },
  {
   "cell_type": "code",
   "execution_count": null,
   "metadata": {
    "colab": {
     "base_uri": "https://localhost:8080/",
     "height": 617
    },
    "id": "nYb2-uDtkm9u",
    "outputId": "095748ad-22ef-46a5-c95a-c5c4c9cc789c"
   },
   "outputs": [],
   "source": [
    "df.isnull().sum()"
   ]
  },
  {
   "cell_type": "code",
   "execution_count": null,
   "metadata": {
    "colab": {
     "base_uri": "https://localhost:8080/"
    },
    "id": "RQVtuyhlo7L4",
    "outputId": "0f97b5c1-6e33-4032-9e13-a7b0e1ec732c"
   },
   "outputs": [],
   "source": [
    "reviews_equal_zero = df[df['number_of_reviews'] == 0]\n",
    "print(reviews_equal_zero.shape[0])"
   ]
  },
  {
   "cell_type": "markdown",
   "metadata": {
    "id": "IS54uwl5oCGc"
   },
   "source": [
    "La falta valores de los códigos `license` y `neighbourhood_group` no interferirá en la analisis. Sin embargo, la cantidad de valores nulos en la variable `last_review` (8931) puede indicar que el inmueble nunca fue evaluado, ya que la variable `number_of_reviews_ltm` no tiene entradas nulas. Esto también puede ser analizado en la variable reviews_per_month, que tiene el mismo número de valores nulos. Al contar cuántas evaluaciones son iguales a cero, obtenemos el mismo número (8931), lo que indica que esos inmuebles no recibieron ninguna evaluación (review)."
   ]
  },
  {
   "cell_type": "code",
   "execution_count": null,
   "metadata": {
    "id": "niR4qJhEmVdB"
   },
   "outputs": [],
   "source": [
    "# Reemplazar los valores nulos con 0\n",
    "df['reviews_per_month'] = df['reviews_per_month'].fillna(0)"
   ]
  },
  {
   "cell_type": "code",
   "execution_count": null,
   "metadata": {
    "id": "8fBzdfiJqjVu"
   },
   "outputs": [],
   "source": [
    "# Transformar la serie 'reviews_per_month' a tipo entero\n",
    "df['reviews_per_month'] = df['reviews_per_month'].astype(int)"
   ]
  },
  {
   "cell_type": "markdown",
   "metadata": {
    "id": "N_Ss_hcFq0tf"
   },
   "source": [
    "Por último, tenemos la variable `price` con 1744 valores faltantes. El precio de la diaria es una de las variables más importantes en este tipo de conjunto de datos. Por tratarse de una pequeña proporción de datos nulos (4,7%), podríamos optar por ignorar esos datos. Sin embargo, realizaremos una imputación basada en grupos con el objetivo de crear una imputación más realista. Consideramos que los precios varían significativamente entre grupos (por barrios o tipos de habitación)."
   ]
  },
  {
   "cell_type": "code",
   "execution_count": null,
   "metadata": {
    "id": "lUAqpajwql1G"
   },
   "outputs": [],
   "source": [
    "df['price'] = df.groupby(['neighbourhood', 'room_type'])['price'].transform(lambda x: x.fillna(x.median()))"
   ]
  },
  {
   "cell_type": "code",
   "execution_count": null,
   "metadata": {
    "colab": {
     "base_uri": "https://localhost:8080/"
    },
    "id": "oV3C7pk-q4Ij",
    "outputId": "eab3b1c7-2f96-40b4-e469-89e1b74f7276"
   },
   "outputs": [],
   "source": [
    "# Verificar la cantidad de datos nulos y los tipos de datos\n",
    "df.info()"
   ]
  },
  {
   "cell_type": "code",
   "execution_count": null,
   "metadata": {
    "colab": {
     "base_uri": "https://localhost:8080/",
     "height": 321
    },
    "id": "_XS11RKCrBDg",
    "outputId": "3d25e0b6-e379-4479-cfdf-a42d28c9541f"
   },
   "outputs": [],
   "source": [
    "# Visualizar las métricas estadísticas del DataFrame\n",
    "df.describe()"
   ]
  },
  {
   "cell_type": "markdown",
   "metadata": {
    "id": "DHAuoeC0kQ7z"
   },
   "source": [
    "## Varibles **minimum_nights, reviews_per_month e number_of_reviews_ltm**\n",
    "\n",
    "La variable `minimum_nights` tiene algunas entradas con valores muy elevados, con un máximo de 1.000 noches."
   ]
  },
  {
   "cell_type": "code",
   "execution_count": null,
   "metadata": {
    "colab": {
     "base_uri": "https://localhost:8080/"
    },
    "id": "meabd2mAm7N5",
    "outputId": "a3d96e60-0367-4fc3-b0e4-1fb73357775d"
   },
   "outputs": [],
   "source": [
    "print(f'Número de registros com minimum_nights > 90: {sum(df[\"minimum_nights\"] > 90)}')"
   ]
  },
  {
   "cell_type": "markdown",
   "metadata": {
    "id": "3P26xcZ1nd7d"
   },
   "source": [
    "Adoptaremos un límite máximo más razonable, como 90 noches, para asegurarnos de que las entradas sean coherentes con las expectativas de los usuarios en una plataforma como Airbnb. Dado que hay solo 73 entradas con más de 90 días como mínimo de noches, las excluiremos de nuestro análisis para garantizar que los datos sean coherentes con las expectativas para una plataforma como Airbnb."
   ]
  },
  {
   "cell_type": "code",
   "execution_count": null,
   "metadata": {
    "id": "2FoJrovan1Su"
   },
   "outputs": [],
   "source": [
    "# Excluir entradas con minimum_nights mayor que 90\n",
    "df = df[df['minimum_nights'] <= 90]\n"
   ]
  },
  {
   "cell_type": "code",
   "execution_count": null,
   "metadata": {
    "id": "BzvFz0xJtmxb"
   },
   "outputs": [],
   "source": [
    "import matplotlib.pyplot as plt\n",
    "import seaborn as sns\n",
    "import numpy as np"
   ]
  },
  {
   "cell_type": "code",
   "execution_count": null,
   "metadata": {
    "colab": {
     "base_uri": "https://localhost:8080/",
     "height": 396
    },
    "id": "a0OgToEJsoKQ",
    "outputId": "1c6335a9-5f16-4436-ba6a-38a9fb345617"
   },
   "outputs": [],
   "source": [
    "fig, axes = plt.subplots(figsize=(8,4))\n",
    "\n",
    "# Boxplot para minimum_nights\n",
    "plt.subplot(1, 3, 1)\n",
    "sns.boxplot(data=df['minimum_nights'])\n",
    "plt.title('Estancias mínimas')\n",
    "\n",
    "# Boxplot para reviews_per_month\n",
    "plt.subplot(1, 3, 2)\n",
    "sns.boxplot(data=df['reviews_per_month'])\n",
    "plt.title('Número de reseñas por mes')\n",
    "\n",
    "# Boxplot para number_of_reviews\n",
    "plt.subplot(1, 3, 3)\n",
    "sns.boxplot(data=df['number_of_reviews'])\n",
    "plt.title('Número de reseñas')\n",
    "\n",
    "plt.tight_layout()\n",
    "plt.show()"
   ]
  },
  {
   "cell_type": "markdown",
   "metadata": {
    "id": "bAzRi22Rus0a"
   },
   "source": [
    "#Analizando la variable **precio**.\n",
    "\n",
    "En `df.describe()`, podemos observar que la variable price tiene un valor promedio de 712,27 reales y un valor medio de 5342,97 reales. Los valores máximos y mínimos se desvían significativamente de sus métricas centrales: 33 y 624.838,00 reales. Utilizaremos la regla del Rango Intercuartílico (IQR, por sus siglas en inglés) para establecer límites a los valores atípicos. La regla del IQR define como límite inferior la diferencia entre el primer cuartil y 1,5 * (la diferencia entre el tercer y primer cuartil). Como límite superior, se establece la suma del tercer cuartil con 1,5 * (la diferencia entre el tercer y primer cuartil)."
   ]
  },
  {
   "cell_type": "code",
   "execution_count": null,
   "metadata": {
    "colab": {
     "base_uri": "https://localhost:8080/"
    },
    "id": "r_i1sP80hwwv",
    "outputId": "5fe4933f-6ed6-4071-9eb6-3678c329fa58"
   },
   "outputs": [],
   "source": [
    "# Verificando las entradas con outliers de 'price', según la regla del IQR Score:\n",
    "# La regla del IQR define como límite inferior la diferencia entre el primer cuartil y 1,5 * (la diferencia entre el tercer y el primer cuartil).\n",
    "# Y como límite superior la suma del tercer cuartil con 1,5 * (la diferencia entre el tercer y el primer cuartil).\n",
    "\n",
    "# Identificando los cuartiles:\n",
    "q1 = df.price.quantile(.25)\n",
    "q3 = df.price.quantile(.75)\n",
    "IQR_price = q3 - q1\n",
    "print('IQR de la variable price: ', IQR_price)\n",
    "\n",
    "# Definiendo los límites inferior y superior\n",
    "sup_price = q3 + 1.5 * IQR_price\n",
    "inf_price = q1 - 1.5 * IQR_price\n",
    "\n",
    "print('Límite superior de price: ', sup_price)\n",
    "print('Límite inferior de price: ', inf_price)\n",
    "\n"
   ]
  },
  {
   "cell_type": "code",
   "execution_count": null,
   "metadata": {
    "id": "l4nmrueFuv86"
   },
   "outputs": [],
   "source": [
    "# Tratamiento de los outliers:\n",
    "df_clean = df[(df['price'] >= inf_price) & (df['price'] <= sup_price)]"
   ]
  },
  {
   "cell_type": "code",
   "execution_count": null,
   "metadata": {
    "colab": {
     "base_uri": "https://localhost:8080/",
     "height": 416
    },
    "id": "3xhFXEzayGZm",
    "outputId": "7c4accdb-7dee-4f8b-d80f-03bc6423484a"
   },
   "outputs": [],
   "source": [
    "plt.figure(figsize=(8,4))\n",
    "sns.histplot(df_clean['price'], bins=30, kde=True)\n",
    "plt.title('Distribución de Precios sin Outliers', fontsize=16)\n",
    "plt.xlabel('Precio por Noche (R$)', fontsize=12)\n",
    "plt.ylabel('Número de inmuebles', fontsize=12)\n",
    "plt.show()"
   ]
  },
  {
   "cell_type": "markdown",
   "metadata": {
    "id": "Ez1lHThyh5a7"
   },
   "source": [
    "El grafico representa la distribuición de los precios sin outliers para los inmuebles de Airbnb en Rio de Janeiro. El gráfico presenta una asimetría positiva, con una cola alargada hacia la derecha, típico en variables de precios. La mayor concencetración de precios se encuentra entre 200 y 400 reales, como era de esperarse, mientras que los valores más altos (cercanos al límite superior de 1153,75) son menos frecuentes.\n",
    "\n",
    "La eliminación de los valores atípicos mejoró la visualización de la distribución, haciendo los datos más representativos para el análisis. La línea de densidad superpuesta muestra el comportamiento general de la variable `price`, confirmando la cola larga."
   ]
  },
  {
   "cell_type": "code",
   "execution_count": null,
   "metadata": {
    "colab": {
     "base_uri": "https://localhost:8080/"
    },
    "id": "uao40w06iOeU",
    "outputId": "41268bf1-6911-414e-d539-e36bf63ec64c"
   },
   "outputs": [],
   "source": [
    "print(\"Antes del tratamiento:\")\n",
    "print(df['price'].describe())\n",
    "\n",
    "print(\"\\nDespués del tratamiento:\")\n",
    "print(df_clean['price'].describe())\n"
   ]
  },
  {
   "cell_type": "markdown",
   "metadata": {
    "id": "7CbSZJYcipko"
   },
   "source": [
    "**Resumen de las Estadísticas:**\n",
    "Antes del tratamiento, el promedio estaba fuertemente influenciado por los valores extremos (valores atípicos). La enorme variabilidad de la desviación estándar antes refleja la presencia de precios muy por encima del promedio (como el máximo de R$624.838). Este valor es un valor atípico extremo y no representa el mercado.\n",
    "\n",
    "Después del tratamiento, el promedio se encuentra alineado con las métricas centrales (mediana y cuartiles), representando mejor el mercado. La reducción en la desviación estándar indica que los precios están más concentrados alrededor del promedio, sin la distorsión de valores atípicos. El valor máximo de 1.152 reales corresponde al límite superior definido por el IQR y se encuentra dentro del rango razonable para precios de hospedaje. Los valores de los cuartiles (25%, 50%, 75%) ahora son más consistentes con el mercado, lo que sugiere que los precios generalmente varían entre 200 y 490 reales, con una mediana de 300 reales.\n",
    "\n",
    "El tratamiento de los valores atípicos hizo que los datos fueran más representativos, evitando la distorsión de las métricas por valores extremos. La reducción en la desviación estándar y en el promedio refleja la exclusión de propiedades con precios anormalmente altos."
   ]
  },
  {
   "cell_type": "code",
   "execution_count": null,
   "metadata": {
    "colab": {
     "base_uri": "https://localhost:8080/",
     "height": 853
    },
    "id": "2_KdWqy4zji5",
    "outputId": "f7b2690e-ec96-4aca-8166-fb73cc7ded66"
   },
   "outputs": [],
   "source": [
    "#Histograma de las variables numéricas:\n",
    "\n",
    "histogramas = df_clean.drop(columns=['host_id', 'neighbourhood_group', 'license'])\n",
    "histogramas.hist(bins=100, figsize=(15,10));"
   ]
  },
  {
   "cell_type": "markdown",
   "metadata": {
    "id": "_YZ-29JWCkOI"
   },
   "source": [
    "\n",
    "Las distribuciones de la **latitud y longitud** indican que las propiedades están concentradas en áreas geográficas específicas, con poca variación.\n",
    "\n",
    "Después del tratamiento, la variable **precio** muestra una distribución asimétrica positiva, con mayor frecuencia en precios más bajos (entre 100 y 400 reales). Esto es consistente con el hecho de que la mayoría de los anuncios tienen precios accesibles.\n",
    "\n",
    "La mayoría de las propiedades tiene **estancias mínimas** muy cortas, menor que 5 días. La cola larga indica que algunos anuncios tienen estancias mínimas mucho más altas.\n",
    "\n",
    "La mayoría de los anuncios recibió pocas **reseñas** (concentradas entre 0 y 10). La cola larga muestra que algunas propiedades tienen cientos de reseñas. Además, la mayoría de las propiedades tienen pocas **reseñas mensuales**, con la mayor frecuencia cerca de 0.\n",
    "\n",
    "La mayoría de los anfitriones tienen pocas propiedades listadas (valores bajos). Algunos pocos anfitriones tienen un gran número de propiedades, lo que puede indicar empresas disponibilizando inmuebles o inversores de imuebles.\n",
    "\n",
    "La variable de disponibilidad muestra picos en 0, 180 y 365 días, lo que indica propiedades no disponibles, disponibles por medio tiempo o disponibles todo el año.\n",
    "\n",
    "Similar al número de reseñas, la variable \"número de reseñas del último año\" presenta una concentración en valores bajos (de 0 a 20 reseñas en el último año)."
   ]
  },
  {
   "cell_type": "code",
   "execution_count": null,
   "metadata": {
    "colab": {
     "base_uri": "https://localhost:8080/",
     "height": 269
    },
    "id": "q7eoQj5HzqJg",
    "outputId": "0c06ee76-95b3-4e23-ba8f-e0ab8cd526d2"
   },
   "outputs": [],
   "source": [
    "# Definiendo la matriz de correlación\n",
    "corr = df_clean[['price', 'minimum_nights',\n",
    "       'number_of_reviews', 'reviews_per_month',\n",
    "       'calculated_host_listings_count', 'availability_365',\n",
    "       'number_of_reviews_ltm']].corr()\n",
    "\n",
    "display(corr);"
   ]
  },
  {
   "cell_type": "code",
   "execution_count": null,
   "metadata": {
    "colab": {
     "base_uri": "https://localhost:8080/",
     "height": 587
    },
    "id": "A3Vt2kGdkQyA",
    "outputId": "1265ce40-516c-4640-b7ae-0b1dc06432c9"
   },
   "outputs": [],
   "source": [
    "# Heatmap para una mejor visualización de las correlaciones\n",
    "plt.figure(figsize=(8,4))\n",
    "plt.title('Correlación')\n",
    "sns.heatmap(corr, cmap='coolwarm', fmt='.2f', square=True, linecolor='white', annot=True);"
   ]
  },
  {
   "cell_type": "code",
   "execution_count": null,
   "metadata": {
    "colab": {
     "base_uri": "https://localhost:8080/",
     "height": 438
    },
    "id": "7zewoHsnkg60",
    "outputId": "98e6d970-7b6b-4ca0-8f73-765965d3e290"
   },
   "outputs": [],
   "source": [
    "plt.figure(figsize=(8, 4))\n",
    "bins = [0, 200, 600, 1153.75]\n",
    "labels = ['Bajo', 'Medio', 'Alto']\n",
    "df_clean.loc[:, 'price_category'] = pd.cut(df_clean['price'], bins=bins, labels=labels)\n",
    "\n",
    "df_clean['price_category'].value_counts().plot(kind='bar')\n",
    "plt.title('Distribución por Rango de Precio')\n",
    "plt.xlabel('Rango de Precio')\n",
    "plt.ylabel('Número de Inmuebles')\n",
    "plt.show()\n"
   ]
  },
  {
   "cell_type": "code",
   "execution_count": null,
   "metadata": {
    "colab": {
     "base_uri": "https://localhost:8080/",
     "height": 411
    },
    "id": "nh7FC-Qdms9R",
    "outputId": "e5251ced-07a0-4bd6-e445-3918d088b0f6"
   },
   "outputs": [],
   "source": [
    "plt.figure(figsize=(8, 4))\n",
    "sns.boxplot(data=df_clean, x='room_type', y='price')\n",
    "plt.title(\"Variación de Precio por Tipo de Alojamiento\")\n",
    "plt.xlabel(\"Tipo de Alojamiento\")\n",
    "plt.ylabel(\"Precio por Noite (R$)\")\n",
    "plt.show()"
   ]
  },
  {
   "cell_type": "code",
   "execution_count": null,
   "metadata": {
    "colab": {
     "base_uri": "https://localhost:8080/",
     "height": 241
    },
    "id": "Pgp2I-eZnhGm",
    "outputId": "f24372eb-ccda-4027-b875-ae40a3275d01"
   },
   "outputs": [],
   "source": [
    "# Visualizando inicialmente la cantidad de cada tipo de inmueble y su porcentaje en relación con el dataset:\n",
    "df_clean.room_type.value_counts()/df_clean.shape[0]\n"
   ]
  },
  {
   "cell_type": "markdown",
   "metadata": {
    "id": "lERlArXzs1_m"
   },
   "source": [
    "La mayor parte del conjunto de datos se concentra en alojamientos completos (casas/departamentos) y habitaciones privadas. En cambio, las habitaciones compartidas y las habitaciones de hotel representan aproximadamente solo el 1 % del total."
   ]
  },
  {
   "cell_type": "code",
   "execution_count": null,
   "metadata": {
    "colab": {
     "base_uri": "https://localhost:8080/",
     "height": 536
    },
    "id": "azE8VfxMpU8Z",
    "outputId": "675f3b84-c9b2-4e12-bc45-80021570a106"
   },
   "outputs": [],
   "source": [
    "# Agrupar el precio promedio por tipo de alojamiento\n",
    "price_by_room_type = df_clean.groupby('room_type')['price'].mean().sort_values(ascending=False)\n",
    "print(\"Precio promedio por tipo de alojamiento:\")\n",
    "print(price_by_room_type)\n",
    "\n",
    "# Visualizar en gráfico de barras\n",
    "price_by_room_type.plot(kind='bar', figsize=(8, 4))\n",
    "plt.title('Precio promedio por Tipo de alojamiento', fontsize=14)\n",
    "plt.xlabel('Tipo de alojamiento', fontsize=12)\n",
    "plt.ylabel('Precio promedio (R$)', fontsize=12)\n",
    "plt.xticks(rotation=0)\n",
    "plt.show()\n"
   ]
  },
  {
   "cell_type": "markdown",
   "metadata": {
    "id": "JEHnkrHYt0M-"
   },
   "source": [
    "Los alojamientos más caros son los hoteles y las casas/departamentos enteros, mientras que los más económicos son las habitaciones compartidas. Las habitaciones privadas presentan un precio inferior al de las habitaciones de hotel."
   ]
  },
  {
   "cell_type": "code",
   "execution_count": null,
   "metadata": {
    "colab": {
     "base_uri": "https://localhost:8080/",
     "height": 490
    },
    "id": "ueTKFfluoNHo",
    "outputId": "7a2bfda8-eb06-4f28-98e7-99cedf6bd9c9"
   },
   "outputs": [],
   "source": [
    "#Cantidad de inmuebles por barrio:\n",
    "df_clean.neighbourhood.value_counts().sort_values(ascending=False)"
   ]
  },
  {
   "cell_type": "markdown",
   "metadata": {
    "id": "dcGGoklSuRlQ"
   },
   "source": [
    "Es posible afirmar que la mayoría de los alojamientos se encuentran en los barrios de Copacabana, Barra da Tijuca e Ipanema."
   ]
  },
  {
   "cell_type": "code",
   "execution_count": null,
   "metadata": {
    "colab": {
     "base_uri": "https://localhost:8080/",
     "height": 529
    },
    "id": "sVxu5SlAq-ln",
    "outputId": "d5c72ced-d8ed-4b4c-97ab-5b072ba8476c"
   },
   "outputs": [],
   "source": [
    "# Top 10 barrios con mayor cantidad de inmuebles \"hotel room\"\n",
    "hotel_room = df_clean[df_clean['room_type'] == 'Hotel room']\n",
    "hotel_room_dist = hotel_room['neighbourhood'].value_counts(normalize=True).head(10)\n",
    "\n",
    "hotel_room_dist.plot(kind='bar', figsize=(8, 4))\n",
    "plt.title('Habitaciones de Hoteles en los 10 Principales Barrios', fontsize=14)\n",
    "plt.xlabel('Barrio', fontsize=12)\n",
    "plt.ylabel('Porcentaje (%)', fontsize=12)\n",
    "plt.xticks(rotation=90)\n",
    "plt.show()\n"
   ]
  },
  {
   "cell_type": "code",
   "execution_count": null,
   "metadata": {
    "colab": {
     "base_uri": "https://localhost:8080/",
     "height": 579
    },
    "id": "nsukAeUYrCfF",
    "outputId": "9f8cdfcf-e337-4134-8ad6-b16613d479f3"
   },
   "outputs": [],
   "source": [
    "# Top 10 barrios con mayor cantidad de inmuebles \"Entire home/apt\"\n",
    "entirehomeapt_room = df_clean[df_clean['room_type'] == 'Entire home/apt']\n",
    "entirehomeapt_room_dist = entirehomeapt_room['neighbourhood'].value_counts(normalize=True).head(10)\n",
    "\n",
    "entirehomeapt_room_dist.plot(kind='bar', figsize=(8, 4))\n",
    "plt.title('Distribución de Casas o Apartamentos en los 10 Principales Barrios', fontsize=14)\n",
    "plt.xlabel('Barrio', fontsize=12)\n",
    "plt.ylabel('Porcentaje (%)', fontsize=12)\n",
    "plt.xticks(rotation=90)\n",
    "plt.show()"
   ]
  },
  {
   "cell_type": "code",
   "execution_count": null,
   "metadata": {
    "colab": {
     "base_uri": "https://localhost:8080/",
     "height": 575
    },
    "id": "3w7cQgsopsIk",
    "outputId": "a9f60f4c-7538-441d-a23d-494971017ea9"
   },
   "outputs": [],
   "source": [
    "# Top 10 barrios con mayor cantidad de inmuebles \"Private room\"\n",
    "private_room = df_clean[df_clean['room_type'] == 'Private room']\n",
    "private_room_dist = private_room['neighbourhood'].value_counts(normalize=True).head(10)\n",
    "\n",
    "private_room_dist.plot(kind='bar', figsize=(8, 4))\n",
    "plt.title('Distribución de Habitaciones Privadas en los 10 Principales Barrios', fontsize=14)\n",
    "plt.xlabel('Barrio')\n",
    "plt.ylabel('Porcentaje (%)')\n",
    "plt.xticks(rotation=90)\n",
    "plt.show()"
   ]
  },
  {
   "cell_type": "code",
   "execution_count": null,
   "metadata": {
    "colab": {
     "base_uri": "https://localhost:8080/",
     "height": 491
    },
    "id": "21JbcSmurl00",
    "outputId": "6e926e02-2e4c-4a34-d3d2-38dcad465748"
   },
   "outputs": [],
   "source": [
    "# Top 10 barrios con mayor cantidad de inmuebles \"Shared room\"\n",
    "shared_room = df_clean[df_clean['room_type'] == 'Shared room']\n",
    "shared_room_dist = shared_room['neighbourhood'].value_counts(normalize=True).head(10)\n",
    "\n",
    "shared_room_dist.plot(kind='bar', figsize=(8, 4))\n",
    "plt.title('Distribución de Habitaciones Compartidas en los 10 Principales Barrios', fontsize=14)\n",
    "plt.xlabel('Barrio', fontsize=12)\n",
    "plt.ylabel('Porcentaje (%)', fontsize=12)\n",
    "plt.xticks(rotation=90)\n",
    "plt.show()"
   ]
  },
  {
   "cell_type": "code",
   "execution_count": null,
   "metadata": {
    "colab": {
     "base_uri": "https://localhost:8080/",
     "height": 490
    },
    "id": "PDKWlnHLr9eh",
    "outputId": "31e8fd86-2f16-4abf-bf31-c8988a15651e"
   },
   "outputs": [],
   "source": [
    "# Inicialmente, verifiquemos la media de precio para cada barrio:\n",
    "df_clean.groupby(['neighbourhood']).price.mean().sort_values(ascending=False)"
   ]
  },
  {
   "cell_type": "code",
   "execution_count": null,
   "metadata": {
    "colab": {
     "base_uri": "https://localhost:8080/",
     "height": 566
    },
    "id": "91UsJQZgsUH7",
    "outputId": "a56fdc0d-5882-4236-fb4a-c62540207804"
   },
   "outputs": [],
   "source": [
    "#Inmuebles por latitud y longitud:\n",
    "plt.figure(figsize=(10, 6))\n",
    "scatter = plt.scatter(x=df_clean['longitude'], y=df_clean['latitude'], c=df_clean['price'], cmap='coolwarm', alpha=0.25, s=8)\n",
    "\n",
    "plt.xlabel('Longitud')\n",
    "plt.ylabel('Latitud')\n",
    "plt.title('Distribución Geográfica de Alojamientos según Precio', fontsize=14)\n",
    "cbar = plt.colorbar(scatter)\n",
    "cbar.set_label('Precio (R$)')\n",
    "plt.show()"
   ]
  },
  {
   "cell_type": "markdown",
   "metadata": {
    "id": "WrPnXk50sho6"
   },
   "source": [
    "Bairro Latitude Longitude\n",
    "\n",
    "Copacabana\t-22.96599\t-43.17940"
   ]
  },
  {
   "cell_type": "code",
   "execution_count": null,
   "metadata": {
    "colab": {
     "base_uri": "https://localhost:8080/",
     "height": 490
    },
    "id": "mHPz9EyvsVKE",
    "outputId": "17b6666f-1779-4611-f783-359dac2ca8ea"
   },
   "outputs": [],
   "source": [
    "expensive = df_clean[df_clean.price > 800]\n",
    "expensive.neighbourhood.value_counts().sort_values(ascending=False)/expensive.shape[0]"
   ]
  },
  {
   "cell_type": "code",
   "execution_count": null,
   "metadata": {
    "colab": {
     "base_uri": "https://localhost:8080/",
     "height": 570
    },
    "id": "sl0e5tqjtaSv",
    "outputId": "21ce934a-ee83-4a3a-c957-7c6042e8501d"
   },
   "outputs": [],
   "source": [
    "# Trazando las coordenadas de los alojamientos más caros:\n",
    "plt.figure(figsize=(10, 6))\n",
    "scatter = plt.scatter(x=expensive['longitude'], y=expensive['latitude'], c=expensive['price'], cmap='coolwarm', alpha=0.75, s=20)\n",
    "\n",
    "plt.title('Ubicación de los Alojamientos Más Caros', fontsize=14)\n",
    "plt.xlabel('Longitud', fontsize=12)\n",
    "plt.ylabel('Latitud', fontsize=12)\n",
    "cbar = plt.colorbar(scatter)\n",
    "cbar.set_label('Precio (R$)')\n",
    "plt.show()"
   ]
  },
  {
   "cell_type": "markdown",
   "metadata": {
    "id": "oOBkDifQ5ceB"
   },
   "source": [
    "Para que tengamos una idea de a qué barrio nos referimos al tratar de latitud y longitud, agrupamos por la mayor cantidad de inmuebles disponibles en los barrios, con sus respectivas latitudes y longitudes."
   ]
  },
  {
   "cell_type": "code",
   "execution_count": null,
   "metadata": {
    "colab": {
     "base_uri": "https://localhost:8080/"
    },
    "id": "jiXoDk8U4w5y",
    "outputId": "1d171be3-2b89-42aa-d7aa-161d98b606e1"
   },
   "outputs": [],
   "source": [
    "# Agrupar por barrio y contar la cantidad de inmuebles, latitud y longitud\n",
    "top_neigh_by_price = (df_clean.groupby('neighbourhood').agg({'price': 'count', 'latitude': 'mean','longitude': 'mean'})\n",
    "    .sort_values(by='price', ascending=False).head(10).reset_index())\n",
    "print(top_neigh_by_price)"
   ]
  },
  {
   "cell_type": "markdown",
   "metadata": {
    "id": "e-ryTyZQ6Rm1"
   },
   "source": [
    "Ahora, analizaremos visualmente la relación entre el precio de los inmuebles y la cantidad de reseñas en la plataforma. Como la cantidad es elevada, dividimos en rangos de reseñas."
   ]
  },
  {
   "cell_type": "code",
   "execution_count": null,
   "metadata": {
    "id": "wl6kBuOHthEB"
   },
   "outputs": [],
   "source": [
    "#Rangos de número de reseñas\n",
    "bins = [0, 10, 25, 50, 100, 200, 300, float('inf')]\n",
    "labels = ['0-10', '11-25', '26-50', '51-100', '101-200', '201-300', '300+']"
   ]
  },
  {
   "cell_type": "code",
   "execution_count": null,
   "metadata": {
    "colab": {
     "base_uri": "https://localhost:8080/"
    },
    "id": "p9ASrRy-6rWs",
    "outputId": "aad8b37b-b274-4558-87de-d22de1a376f5"
   },
   "outputs": [],
   "source": [
    "#Creado totalmente por chatgpt\n",
    "# Convertir explícitamente a categoría antes de asignar\n",
    "reviews_categories = pd.cut(df_clean['number_of_reviews'], bins=bins, labels=labels, right=False).astype('category')\n",
    "\n",
    "# Asignar a la columna con el dtype correcto\n",
    "df_clean = df_clean.copy()  # Asegurarnos de no estar trabajando en una vista\n",
    "df_clean['reviews_range'] = reviews_categories\n",
    "\n",
    "# Agrupar por rangos (con observed=True para evitar warning futuro)\n",
    "price_by_reviews_range = df_clean.groupby('reviews_range', observed=True)['price'].mean().sort_values(ascending=False)\n",
    "print(price_by_reviews_range)"
   ]
  },
  {
   "cell_type": "code",
   "execution_count": null,
   "metadata": {
    "colab": {
     "base_uri": "https://localhost:8080/",
     "height": 407
    },
    "id": "6fLhNXZt69sH",
    "outputId": "fe0479f3-2978-480f-a06b-4a0059c3e300"
   },
   "outputs": [],
   "source": [
    "# Visualización\n",
    "price_by_reviews_range.plot(kind='bar', figsize=(8, 4))\n",
    "plt.title('Precio Promedio por Rango de Reseñas', fontsize=14)\n",
    "plt.xlabel('Rango de Reseñas', fontsize=12)\n",
    "plt.ylabel('Precio Promedio (R$)', fontsize=12)\n",
    "plt.xticks(rotation=45)\n",
    "plt.tight_layout()\n",
    "plt.show()"
   ]
  },
  {
   "cell_type": "markdown",
   "metadata": {
    "id": "bsf2E6Ov0J0e"
   },
   "source": [
    "#Relação entre Preço e minímo de noites para aluguel"
   ]
  },
  {
   "cell_type": "code",
   "execution_count": null,
   "metadata": {
    "colab": {
     "base_uri": "https://localhost:8080/"
    },
    "id": "3go3J-rN0YX2",
    "outputId": "ec8bf7e6-1581-453e-e7b4-e34ade5d0f5c"
   },
   "outputs": [],
   "source": [
    "mean_price_5night = df_clean[df_clean.minimum_nights <= 10]\n",
    "mean_price_5night['price'].dropna().mean()"
   ]
  },
  {
   "cell_type": "markdown",
   "metadata": {
    "id": "Q6qWNtdZ_1U3"
   },
   "source": [
    "El valor promedio de 370.12 para alojamientos con estadía mínima de hasta 10 días sugiere que los inmuebles de corta estadía tienden a tener un precio más accesible o más competitivo, posiblemente porque son más buscados por turistas o personas que viajan por trabajo."
   ]
  },
  {
   "cell_type": "code",
   "execution_count": null,
   "metadata": {
    "colab": {
     "base_uri": "https://localhost:8080/"
    },
    "id": "B7iucE5E0fy0",
    "outputId": "c46af4c3-160c-4225-9ec2-451e9851b8b7"
   },
   "outputs": [],
   "source": [
    "# Verificando la media del precio de la diaria que requieren una estancia mínima entre 25 y 35 días:\n",
    "mean_price_30night = df_clean[df_clean.minimum_nights<=35]\n",
    "mean_price_30night = mean_price_30night[mean_price_30night.minimum_nights>25]\n",
    "mean_price_30night.price.mean()"
   ]
  },
  {
   "cell_type": "markdown",
   "metadata": {
    "id": "7O7_FpIPABqz"
   },
   "source": [
    "El valor de 416.25 para estadías más largas sugiere que los inmuebles con una estadía mínima entre 25 y 35 días tienden a tener un precio más alto."
   ]
  },
  {
   "cell_type": "code",
   "execution_count": null,
   "metadata": {
    "colab": {
     "base_uri": "https://localhost:8080/",
     "height": 572
    },
    "id": "7NN0DNE5AFLu",
    "outputId": "408b8573-d47a-40ae-ddee-5109c2ab1a65"
   },
   "outputs": [],
   "source": [
    "plt.figure(figsize=(10, 6))\n",
    "sns.scatterplot(data=df_clean, x='number_of_reviews', y='price', alpha=0.4, s=20)\n",
    "sns.regplot(data=df_clean, x='number_of_reviews', y='price', scatter=False, color='red')\n",
    "\n",
    "plt.title('Relación entre Número de Reseñas y Precio', fontsize=16)\n",
    "plt.xlabel('Número de Reseñas', fontsize=12)\n",
    "plt.ylabel('Precio por Noche (R$)', fontsize=12)\n",
    "plt.grid(True)\n",
    "plt.show()"
   ]
  },
  {
   "cell_type": "code",
   "execution_count": null,
   "metadata": {
    "colab": {
     "base_uri": "https://localhost:8080/",
     "height": 472
    },
    "id": "QpuUszl-fbNQ",
    "outputId": "d7a99fe5-d7fc-4bc3-fce0-2238ccef3fdd"
   },
   "outputs": [],
   "source": [
    "sns.boxplot(x='room_type', y='availability_365', data=df_clean)\n",
    "plt.title(\"Disponibilidad por Tipo de Alojamiento\")\n",
    "plt.xlabel(\"Tipo de Alojamiento\")\n",
    "plt.ylabel(\"Disponibilidad por año\")\n",
    "plt.show()"
   ]
  },
  {
   "cell_type": "markdown",
   "metadata": {
    "id": "NUOeoBJVq9GQ"
   },
   "source": [
    "#Comparando Disponibilidad vs. Precio Promedio\n"
   ]
  },
  {
   "cell_type": "markdown",
   "metadata": {
    "id": "ocEkEiKTxSV8"
   },
   "source": [
    "![disponibilidad.jpg](data:image/jpeg;base64,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)"
   ]
  },
  {
   "cell_type": "markdown",
   "metadata": {
    "id": "_f6IyGusvde0"
   },
   "source": [
    "A partir de la comparación entre la disponibilidad de los alojamientos y su precio promedio, es posible observar que las habitaciones de hotel son las más caras y también las más disponibles, lo que refuerza su perfil de operación profesional. Las casas o apartamentos enteros tienen una disponibilidad media menor, lo que puede indicar que tengan una alta tasa de ocupación, lo que agota rápidamente las fechas disponibles, o bien, el anfitrión restringe intencionalmente los días disponibles, ya sea por uso personal o como parte de una estrategia. Las habitaciones privadas representan una buena alternativa: tienen una alta presencia en la plataforma, con un precio más accesible y buena disponibilidad. Las habitaciones compartidas son poco comunes, pero resultan ser las más accesibles y con buena disponibilidad."
   ]
  },
  {
   "cell_type": "code",
   "execution_count": null,
   "metadata": {
    "id": "Qx59ngHyqyp-"
   },
   "outputs": [],
   "source": [
    "bins = [0, 90, 180, 270, 365]\n",
    "labels = ['0-90 dias', '91-180 dias', '181-270 dias', '271-365 dias']\n",
    "\n",
    "df_clean['availability_range'] = pd.cut(df_clean['availability_365'], bins=bins, labels=labels, right=True)\n"
   ]
  },
  {
   "cell_type": "code",
   "execution_count": null,
   "metadata": {
    "colab": {
     "base_uri": "https://localhost:8080/"
    },
    "id": "E7sK-oiOynov",
    "outputId": "aae927cd-9241-4f76-a7d5-353bc8282cd5"
   },
   "outputs": [],
   "source": [
    "avg_reviews_by_avail = df_clean.groupby('availability_range', observed=True)['number_of_reviews'].mean().sort_values(ascending=False)\n",
    "print(avg_reviews_by_avail)"
   ]
  },
  {
   "cell_type": "code",
   "execution_count": null,
   "metadata": {
    "colab": {
     "base_uri": "https://localhost:8080/",
     "height": 407
    },
    "id": "F1Kqpmbryp2C",
    "outputId": "532c8e06-11ad-435e-d11c-4727a9ee6cbe"
   },
   "outputs": [],
   "source": [
    "plt.figure(figsize=(8,4))\n",
    "sns.barplot(x=avg_reviews_by_avail.index, y=avg_reviews_by_avail.values)\n",
    "plt.title(\"Promedio de Reseñas por Rango de Disponibilidad\")\n",
    "plt.xlabel(\"Rango de Disponibilidad (días/año)\")\n",
    "plt.ylabel(\"Número Promedio de Reseñas\")\n",
    "plt.tight_layout()\n",
    "plt.show()"
   ]
  },
  {
   "cell_type": "markdown",
   "metadata": {
    "id": "PL0lNjfszLf-"
   },
   "source": [
    "Los alojamientos con disponibilidad entre 91 y 180 días son, en promedio, los que acumulan más evaluaciones. Curiosamente, aquellos con mayor disponibilidad (181 a 365 días) presentan menos evaluaciones, lo que contradice la idea de que estar más tiempo disponible implica ser más alquilado.\n",
    "\n",
    "Las propiedades con menor disponibilidad (hasta 180 días) parecen tener una mayor rotación y ocupación. Una posible interpretación es que estar más disponible no necesariamente significa ser más atractivo para los huéspedes —podría deberse a precios elevados, ubicación menos deseada o menor calidad del alojamiento.\n",
    "\n",
    "En cambio, aquellos alojamientos con menos días disponibles pero muchas evaluaciones sugieren una alta demanda.\n"
   ]
  },
  {
   "cell_type": "markdown",
   "metadata": {
    "id": "hVqCF2830Wga"
   },
   "source": [
    "#Conclusión\n"
   ]
  },
  {
   "cell_type": "markdown",
   "metadata": {
    "id": "RxWxZtYb0Yz4"
   },
   "source": [
    "Este proyecto de análisis exploratorio del mercado de alojamientos de Airbnb en Río de Janeiro buscó obtener insights importantes sobre el comportamiento de los precios, la dinámica de las reseñas y la disponibilidad de los inmuebles en esta ciudad brasileña, super turística y reconocida a nivel mundial. A continuación, algunas conclusiones según los objetivos planteados:\n",
    "\n",
    "1. Distribución de precios según el tipo de habitación y la ubicación\n",
    "Los precios presentan una distribución asimétrica positiva, con la mayoría de las propiedades concentradas entre 200 y 400 reales por noche. Fueron eliminados los valores atípicos para una observasión más realista del mercado. Se evidenció que tanto el tipo de habitación como el barrio influyen significativamente en el precio: habitaciones privadas suelen tener precios más bajos en comparación con departamentos o alojamientos enteros, y barrios turísticos o centrales tienden a tener precios más elevados, como el barrio de Copacabana. La mayoría de los alojamientos también se encuentran en este barrio, excepto los hoteles, que están más presentes en el centro de la ciudad.\n",
    "\n",
    "2. Relación entre el número de reseñas y el precio\n",
    "La mayoría de los inmuebles tiene pocas reseñas, y se identificó una ligera correlación negativa entre el número de reseñas y el precio. Esto puede indicar que alojamientos más económicos tienden a recibir más evaluaciones, posiblemente por tener mayor rotación de huéspedes. Esto queda más relevante cuando observamos que estos imuebles tienem una disponibilidad más baja. Sin embargo, la correlación no es lo suficientemente fuerte como para establecer una relación causal directa.\n",
    "\n",
    "3. Factores que afectan la disponibilidad de los inmuebles\n",
    "La variable `availability_365` mostró picos en 0, 180 y 365 días, indicando distintos perfiles de uso: propiedades no disponibles, de uso parcial o totalmente disponibles durante el año. Además, se observó que la disponibilidad se relaciona moderadamente con el número de reseñas recientes, lo que puede indicar una mayor ocupación y rotación de huéspedes.\n",
    "\n",
    "El análisis de los datos de Airbnb en Río de Janeiro permitió identificar patrones importantes en cuanto a precios, tipo de alojamiento y disponibilidad. Estos hallazgos pueden ser útiles para  los anfitriones optimizaren sus anuncios, así como para potenciales huéspedes interesados en comprender mejor el comportamiento del mercado local. Futuras investigaciones podrían incorporar variables temporales (como eventos locales o temporadas altas) para enriquecer aún más la comprensión del mercado del Airbnb en la cuidad de Rio de Janerio."
   ]
  }
 ],
 "metadata": {
  "colab": {
   "provenance": []
  },
  "kernelspec": {
   "display_name": "Python 3",
   "name": "python3"
  },
  "language_info": {
   "codemirror_mode": {
    "name": "ipython",
    "version": 3
   },
   "file_extension": ".py",
   "mimetype": "text/x-python",
   "name": "python",
   "nbconvert_exporter": "python",
   "pygments_lexer": "ipython3",
   "version": "3.11.8"
  }
 },
 "nbformat": 4,
 "nbformat_minor": 0
}
